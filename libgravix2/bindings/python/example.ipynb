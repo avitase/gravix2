{
 "cells": [
  {
   "cell_type": "code",
   "execution_count": 1,
   "id": "87a36678-a557-47df-9b7e-bca31ed5dd05",
   "metadata": {},
   "outputs": [],
   "source": [
    "from src import gravix2\n",
    "import tempfile"
   ]
  },
  {
   "cell_type": "code",
   "execution_count": 2,
   "id": "ae123878-ce9b-4aec-8a95-35b96f1cbb62",
   "metadata": {},
   "outputs": [],
   "source": [
    "import matplotlib.pyplot as plt\n",
    "import numpy as np\n",
    "\n",
    "import nbfigtulz as ftl"
   ]
  },
  {
   "cell_type": "code",
   "execution_count": 3,
   "id": "7388827d-9736-49bc-9268-482f4f2d0f5c",
   "metadata": {},
   "outputs": [
    {
     "data": {
      "text/plain": [
       "'/tmp/tmpur8xrfe1'"
      ]
     },
     "execution_count": 3,
     "metadata": {},
     "output_type": "execute_result"
    }
   ],
   "source": [
    "img_dir = tempfile.TemporaryDirectory()\n",
    "ftl.config['img_dir'] = img_dir.name\n",
    "ftl.config['img_dir']"
   ]
  },
  {
   "cell_type": "code",
   "execution_count": 6,
   "id": "00d5e3ba-c631-4030-9983-508e90f44f07",
   "metadata": {},
   "outputs": [],
   "source": [
    "libgravix2 = gravix2.load_library('libs/libgravix2.so')\n",
    "planets = libgravix2.new_planets([(10., 20.), (-20., -30)])\n",
    "missiles = libgravix2.new_missiles(1)"
   ]
  },
  {
   "cell_type": "code",
   "execution_count": null,
   "id": "69bc4d98-4146-41bf-9f7b-f5c93069405e",
   "metadata": {},
   "outputs": [],
   "source": [
    "def shoot(missile, *, n=5):\n",
    "    x = np.empty((0, 3))\n",
    "    v = np.empty((0, 3))\n",
    "    \n",
    "    premature = False\n",
    "    while n > 0 and not premature:\n",
    "        n -= 1\n",
    "        premature = missile.propagate(planets, 1e-3)\n",
    "        if premature:\n",
    "            print('!!! PREMATURE !!!')\n",
    "        \n",
    "        x = np.concatenate((x, missile.trajectory['x']), axis=0)\n",
    "        v = np.concatenate((v, missile.trajectory['v']), axis=0)\n",
    "    \n",
    "    return x, v"
   ]
  },
  {
   "cell_type": "code",
   "execution_count": null,
   "id": "80a76d67-60d2-4a71-aa83-c08ce66cd425",
   "metadata": {},
   "outputs": [],
   "source": [
    "m = missiles[0]\n",
    "m.launch(planets=planets, planet_id=0, v=200., psi=90.)\n",
    "\n",
    "x, v = shoot(m)\n",
    "x.shape, v.shape"
   ]
  },
  {
   "cell_type": "code",
   "execution_count": null,
   "id": "1f6f6906-4aaa-4d28-9813-0bf89320dd40",
   "metadata": {},
   "outputs": [],
   "source": [
    "m = missiles[0]\n",
    "m.set(pos=x[-1], vel=-v[-1])\n",
    "\n",
    "x2, v2 = shoot(m)\n",
    "x2.shape, v2.shape"
   ]
  },
  {
   "cell_type": "code",
   "execution_count": null,
   "id": "3b1f90cf-6fda-46ef-b447-7d8e694e6bf7",
   "metadata": {},
   "outputs": [],
   "source": [
    "@ftl.with_context\n",
    "def make_fig(x, planets):\n",
    "    lat = np.rad2deg(np.arcsin(x[:, 2]))\n",
    "    lon = np.rad2deg(np.arctan2(x[:, 0], x[:, 1]))\n",
    "\n",
    "    fig, ax = plt.subplots()\n",
    "    ax.plot(lon, lat)\n",
    "\n",
    "    ax.grid()\n",
    "    ax.set_xlabel('Longitude (deg.)')\n",
    "    ax.set_ylabel('Latitude (deg.)')\n",
    "\n",
    "    for plat, plon in planets:\n",
    "        ax.plot(plon, plat, 'o', c='black', alpha=.5)\n",
    "        \n",
    "    return ftl.save_fig(fig, 'trajectories')\n",
    "        \n",
    "        \n",
    "make_fig(x, planets.planet_pos)"
   ]
  },
  {
   "cell_type": "code",
   "execution_count": null,
   "id": "c861068a-f0a1-4dcc-9c6b-ff77c51b6b99",
   "metadata": {},
   "outputs": [],
   "source": [
    "@ftl.with_context\n",
    "def make_fig(x1, x2):\n",
    "    lat1 = np.rad2deg(np.arcsin(x1[:, 2]))\n",
    "    lon1 = np.rad2deg(np.arctan2(x1[:, 0], x1[:, 1]))\n",
    "    \n",
    "    lat2 = np.rad2deg(np.arcsin(x2[:, 2]))\n",
    "    lon2 = np.rad2deg(np.arctan2(x2[:, 0], x2[:, 1]))\n",
    "\n",
    "    fig, ax = plt.subplots()\n",
    "    ax.plot(lat1 - lat2[::-1], label='Lat.')\n",
    "    ax.plot(lon1 - lon2[::-1], label='Lon.')\n",
    "    \n",
    "    ax.legend()\n",
    "    ax.set_xlabel('Time step')\n",
    "    ax.set_ylabel('Difference')\n",
    "    \n",
    "    return ftl.save_fig(fig, 'diff')\n",
    "    \n",
    "    \n",
    "make_fig(x, x2)"
   ]
  },
  {
   "cell_type": "code",
   "execution_count": null,
   "id": "946dfa3c-4dde-4ffd-8b04-6f33264a08a2",
   "metadata": {},
   "outputs": [],
   "source": []
  }
 ],
 "metadata": {
  "kernelspec": {
   "display_name": "Python 3 (ipykernel)",
   "language": "python",
   "name": "python3"
  },
  "language_info": {
   "codemirror_mode": {
    "name": "ipython",
    "version": 3
   },
   "file_extension": ".py",
   "mimetype": "text/x-python",
   "name": "python",
   "nbconvert_exporter": "python",
   "pygments_lexer": "ipython3",
   "version": "3.8.12"
  }
 },
 "nbformat": 4,
 "nbformat_minor": 5
}
